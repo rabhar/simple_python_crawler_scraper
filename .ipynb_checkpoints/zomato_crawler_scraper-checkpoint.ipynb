{
 "cells": [
  {
   "cell_type": "code",
   "execution_count": 150,
   "metadata": {},
   "outputs": [],
   "source": [
    "import requests\n",
    "from lxml import etree, html\n",
    "import time\n",
    "import random\n",
    "import pandas as pd\n",
    "import numpy as np"
   ]
  },
  {
   "cell_type": "code",
   "execution_count": 151,
   "metadata": {},
   "outputs": [],
   "source": [
    "#crawling as alexa bot\n",
    "headers = {'User-Agent': 'Mozilla/5.0 (compatible; ia_archiver/1.0; +http://www.alexa.com/help/webmasters; crawler@alexa.com)'}"
   ]
  },
  {
   "cell_type": "code",
   "execution_count": 152,
   "metadata": {},
   "outputs": [],
   "source": [
    "#initializing variables\n",
    "#crawl pages\n",
    "area_urls = []\n",
    "row = []\n",
    "failed_urls = []\n",
    "next_url = \"\""
   ]
  },
  {
   "cell_type": "code",
   "execution_count": 153,
   "metadata": {},
   "outputs": [],
   "source": [
    "res = requests.get('https://www.zomato.com/chennai',headers=headers)\n",
    "tree = html.fromstring(res.content)"
   ]
  },
  {
   "cell_type": "code",
   "execution_count": 154,
   "metadata": {},
   "outputs": [],
   "source": [
    "#get all areas inside chennai\n",
    "area_urls = tree.xpath(\"//section[contains(./h2,'Popular localities')]//a/@href\")"
   ]
  },
  {
   "cell_type": "code",
   "execution_count": 155,
   "metadata": {},
   "outputs": [
    {
     "name": "stdout",
     "output_type": "stream",
     "text": [
      "/chennai/t-nagar-restaurants?all=1&page=2\n",
      "/chennai/t-nagar-restaurants?all=1&page=3\n",
      "/chennai/t-nagar-restaurants?all=1&page=4\n",
      "/chennai/t-nagar-restaurants?all=1&page=5\n",
      "/chennai/t-nagar-restaurants?all=1&page=6\n",
      "/chennai/t-nagar-restaurants?all=1&page=7\n",
      "/chennai/t-nagar-restaurants?all=1&page=8\n",
      "/chennai/t-nagar-restaurants?all=1&page=9\n",
      "/chennai/t-nagar-restaurants?all=1&page=10\n",
      "/chennai/t-nagar-restaurants?all=1&page=11\n",
      "/chennai/t-nagar-restaurants?all=1&page=12\n",
      "/chennai/t-nagar-restaurants?all=1&page=13\n",
      "/chennai/t-nagar-restaurants?all=1&page=14\n",
      "/chennai/t-nagar-restaurants?all=1&page=15\n",
      "/chennai/t-nagar-restaurants?all=1&page=16\n",
      "/chennai/t-nagar-restaurants?all=1&page=17\n",
      "/chennai/t-nagar-restaurants?all=1&page=18\n",
      "/chennai/t-nagar-restaurants?all=1&page=19\n",
      "/chennai/t-nagar-restaurants?all=1&page=20\n",
      "/chennai/t-nagar-restaurants?all=1&page=21\n",
      "/chennai/t-nagar-restaurants?all=1&page=22\n",
      "/chennai/t-nagar-restaurants?all=1&page=23\n",
      "/chennai/t-nagar-restaurants?all=1&page=24\n",
      "/chennai/t-nagar-restaurants?all=1&page=25\n",
      "/chennai/t-nagar-restaurants?all=1&page=26\n",
      "/chennai/t-nagar-restaurants?all=1&page=27\n",
      "/chennai/t-nagar-restaurants?all=1&page=28\n",
      "/chennai/t-nagar-restaurants?all=1&page=29\n",
      "/chennai/t-nagar-restaurants?all=1&page=30\n",
      "/chennai/t-nagar-restaurants?all=1&page=31\n",
      "/chennai/t-nagar-restaurants?all=1&page=32\n",
      "/chennai/t-nagar-restaurants?all=1&page=33\n",
      "/chennai/t-nagar-restaurants?all=1&page=34\n",
      "/chennai/t-nagar-restaurants?all=1&page=35\n",
      "/chennai/t-nagar-restaurants?all=1&page=36\n",
      "/chennai/t-nagar-restaurants?all=1&page=37\n",
      "/chennai/t-nagar-restaurants?all=1&page=38\n",
      "/chennai/t-nagar-restaurants?all=1&page=39\n",
      "/chennai/t-nagar-restaurants?all=1&page=40\n",
      "/chennai/t-nagar-restaurants?all=1&page=41\n",
      "/chennai/t-nagar-restaurants?all=1&page=42\n",
      "/chennai/t-nagar-restaurants?all=1&page=43\n",
      "/chennai/t-nagar-restaurants?all=1&page=44\n",
      "/chennai/t-nagar-restaurants?all=1&page=45\n",
      "/chennai/t-nagar-restaurants?all=1&page=46\n",
      "/chennai/t-nagar-restaurants?all=1&page=47\n",
      "/chennai/t-nagar-restaurants?all=1&page=48\n",
      "/chennai/t-nagar-restaurants?all=1&page=49\n",
      "/chennai/t-nagar-restaurants?all=1&page=50\n",
      "/chennai/t-nagar-restaurants?all=1&page=51\n",
      "/chennai/t-nagar-restaurants?all=1&page=52\n",
      "/chennai/t-nagar-restaurants?all=1&page=53\n",
      "/chennai/t-nagar-restaurants?all=1&page=54\n",
      "/chennai/t-nagar-restaurants?all=1&page=55\n",
      "/chennai/t-nagar-restaurants?all=1&page=56\n",
      "/chennai/t-nagar-restaurants?all=1&page=57\n",
      "/chennai/t-nagar-restaurants?all=1&page=58\n",
      "/chennai/t-nagar-restaurants?all=1&page=59\n",
      "/chennai/t-nagar-restaurants?all=1&page=60\n",
      "/chennai/t-nagar-restaurants?all=1&page=61\n",
      "/chennai/t-nagar-restaurants?all=1&page=62\n",
      "/chennai/t-nagar-restaurants?all=1&page=63\n",
      "/chennai/t-nagar-restaurants?all=1&page=64\n",
      "/chennai/t-nagar-restaurants?all=1&page=65\n",
      "/chennai/t-nagar-restaurants?all=1&page=66\n",
      "/chennai/t-nagar-restaurants?all=1&page=67\n",
      "/chennai/t-nagar-restaurants?all=1&page=68\n",
      "/chennai/t-nagar-restaurants?all=1&page=69\n",
      "/chennai/t-nagar-restaurants?all=1&page=70\n",
      "/chennai/t-nagar-restaurants?all=1&page=71\n",
      "/chennai/t-nagar-restaurants?all=1&page=72\n",
      "/chennai/t-nagar-restaurants?all=1&page=73\n",
      "/chennai/t-nagar-restaurants?all=1&page=74\n",
      "/chennai/t-nagar-restaurants?all=1&page=75\n",
      "/chennai/t-nagar-restaurants?all=1&page=76\n",
      "/chennai/t-nagar-restaurants?all=1&page=77\n",
      "/chennai/t-nagar-restaurants?all=1&page=78\n",
      "/chennai/t-nagar-restaurants?all=1&page=79\n",
      "/chennai/t-nagar-restaurants?all=1&page=80\n"
     ]
    },
    {
     "ename": "NameError",
     "evalue": "name 'failedUrls' is not defined",
     "output_type": "error",
     "traceback": [
      "\u001b[1;31m---------------------------------------------------------------------------\u001b[0m",
      "\u001b[1;31mNameError\u001b[0m                                 Traceback (most recent call last)",
      "\u001b[1;32m<ipython-input-155-d400ac6b19a0>\u001b[0m in \u001b[0;36m<module>\u001b[1;34m()\u001b[0m\n\u001b[0;32m     34\u001b[0m \u001b[0mdf\u001b[0m\u001b[1;33m.\u001b[0m\u001b[0mto_csv\u001b[0m\u001b[1;33m(\u001b[0m\u001b[1;34m\"zomato_restaurants_in_chennai.csv\"\u001b[0m\u001b[1;33m)\u001b[0m\u001b[1;33m\u001b[0m\u001b[0m\n\u001b[0;32m     35\u001b[0m \u001b[1;32mwith\u001b[0m \u001b[0mopen\u001b[0m\u001b[1;33m(\u001b[0m\u001b[1;34m\"failed_urls.txt\"\u001b[0m\u001b[1;33m,\u001b[0m \u001b[1;34m'w+'\u001b[0m\u001b[1;33m,\u001b[0m \u001b[0mencoding\u001b[0m\u001b[1;33m=\u001b[0m\u001b[1;34m'utf-8'\u001b[0m\u001b[1;33m)\u001b[0m \u001b[1;32mas\u001b[0m \u001b[0mr\u001b[0m\u001b[1;33m:\u001b[0m\u001b[1;33m\u001b[0m\u001b[0m\n\u001b[1;32m---> 36\u001b[1;33m         \u001b[0mr\u001b[0m\u001b[1;33m.\u001b[0m\u001b[0mwrite\u001b[0m\u001b[1;33m(\u001b[0m\u001b[1;34m\"\\n\"\u001b[0m\u001b[1;33m.\u001b[0m\u001b[0mjoin\u001b[0m\u001b[1;33m(\u001b[0m\u001b[0mfailedUrls\u001b[0m\u001b[1;33m)\u001b[0m\u001b[1;33m)\u001b[0m\u001b[1;33m\u001b[0m\u001b[0m\n\u001b[0m",
      "\u001b[1;31mNameError\u001b[0m: name 'failedUrls' is not defined"
     ]
    }
   ],
   "source": [
    "for area in area_urls:\n",
    "    # hardcoding all=1 parameter to show all restaurants\n",
    "    res = requests.get( area + '?all=1',headers=headers)\n",
    "    tree = html.fromstring(res.content)\n",
    "    #loop to scrape restaurant name, price, etcs from all the pages\n",
    "    while True:\n",
    "        try:\n",
    "            for restaurant in tree.xpath(\"//div[contains(@class,'search-card')]\"):\n",
    "                title = restaurant.xpath(\".//a[@data-result-type='ResCard_Name']/text()\")[0].strip() if(len(restaurant.xpath(\".//a[@data-result-type='ResCard_Name']/text()\"))) else np.nan\n",
    "                location = restaurant.xpath(\".//a[contains(@class,'search_result_subzone')]/b/text()\")[0].strip() if(len(restaurant.xpath(\".//a[contains(@class,'search_result_subzone')]/b/text()\"))) else np.nan\n",
    "                costForTwo = restaurant.xpath(\".//div[contains(@class,'search-page-text')]//span[contains(.,'Cost for two')]//following-sibling::span/text()\")[0].strip() if(len(restaurant.xpath(\".//div[contains(@class,'search-page-text')]//span[contains(.,'Cost for two')]//following-sibling::span/text()\"))) else np.nan\n",
    "                cuisine = ','.join((restaurant.xpath(\".//div[contains(@class,'search-page-text')]//span[contains(.,'Cuisine')]//following-sibling::span/a/text()\"))) if(len(restaurant.xpath(\".//div[contains(@class,'search-page-text')]//span[contains(.,'Cuisine')]//following-sibling::span/a/text()\"))) else np.nan\n",
    "                ratings = restaurant.xpath(\".//div[contains(@class,'rating-popup')]/text()\")[0].strip() if(len(restaurant.xpath(\".//div[contains(@class,'rating-popup')]/text()\"))) else np.nan\n",
    "                review_counts = restaurant.xpath(\".//span[contains(@class,'rating-votes')]/text()\")[0].strip() if(len(restaurant.xpath(\".//span[contains(@class,'rating-votes')]/text()\"))) else np.nan\n",
    "                phone = restaurant.xpath(\".//div[contains(@class,'search-result-action')]//a[contains(@class,'ph-info')]/@data-phone-no-str\")[0].strip()\n",
    "                url = restaurant.xpath(\".//a[@data-result-type='ResCard_Name']/@href\")[0].strip() if(len(restaurant.xpath(\".//div[contains(@class,'search-result-action')]//a[contains(@class,'ph-info')]/@data-phone-no-str\"))) else np.nan\n",
    "                \n",
    "                #storing attributes in a atuple for pandas dataframe\n",
    "                row.append((title,location,costForTwo,cuisine,ratings,review_counts,phone,url))\n",
    "\n",
    "            next_url = tree.xpath(\"//a[contains(@class,'next')]/@href\")\n",
    "            if(len(next_url)):\n",
    "                print(next_url[0])\n",
    "                # looping through all pages\n",
    "                res = requests.get( \"https://www.zomato.com\" + next_url[0] ,headers=headers)\n",
    "                tree = html.fromstring(res.content)\n",
    "            else:\n",
    "                break\n",
    "        except Exception as e:\n",
    "            print(e)\n",
    "            failed_urls.append(next_url)    \n",
    "\n",
    "df = pd.DataFrame(row,columns=['title', 'location', 'cost_for_two', 'cuisine','ratings','review_counts','phone','url'])\n",
    "df.to_csv(\"zomato_restaurants_in_chennai.csv\")\n",
    "with open(\"failed_urls.txt\", 'w+', encoding='utf-8') as r:\n",
    "        r.write(\"\\n\".join(failed_urls))\n"
   ]
  }
 ],
 "metadata": {
  "kernelspec": {
   "display_name": "Python 3",
   "language": "python",
   "name": "python3"
  },
  "language_info": {
   "codemirror_mode": {
    "name": "ipython",
    "version": 3
   },
   "file_extension": ".py",
   "mimetype": "text/x-python",
   "name": "python",
   "nbconvert_exporter": "python",
   "pygments_lexer": "ipython3",
   "version": "3.6.5"
  }
 },
 "nbformat": 4,
 "nbformat_minor": 2
}
